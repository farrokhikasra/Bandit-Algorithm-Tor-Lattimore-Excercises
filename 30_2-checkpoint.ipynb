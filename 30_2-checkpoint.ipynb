{
 "cells": [
  {
   "cell_type": "code",
   "execution_count": 1,
   "metadata": {
    "id": "jIXXTeF473lF"
   },
   "outputs": [],
   "source": [
    "import numpy as np\n",
    "import matplotlib.pyplot as plt\n",
    "from scipy.optimize import minimize,LinearConstraint\n",
    "import random"
   ]
  },
  {
   "cell_type": "code",
   "execution_count": 2,
   "metadata": {
    "id": "bysG9HIu9OEA"
   },
   "outputs": [],
   "source": [
    "d = 24\n",
    "m = 6\n",
    "etha = 0.01\n",
    "n = 1000"
   ]
  },
  {
   "cell_type": "code",
   "execution_count": 3,
   "metadata": {
    "id": "gQeAooBi5gnL"
   },
   "outputs": [],
   "source": [
    "def loss_generator():\n",
    "\n",
    "  y = []\n",
    "  for i in range(0,d):\n",
    "    y.append(random.uniform(0, 1))\n",
    "  y = np.array(y)\n",
    "  \n",
    "  return y"
   ]
  },
  {
   "cell_type": "code",
   "execution_count": 4,
   "metadata": {
    "id": "EgJu2Cwx9w4y"
   },
   "outputs": [],
   "source": [
    "def loss_estimator(yt,at,athat):\n",
    "\n",
    "  es = []\n",
    "\n",
    "  \n",
    "  for i in range(0,d):\n",
    "      es.append(at[i]*yt[i]/athat[i])\n",
    "    \n",
    "\n",
    "\n",
    "  es = np.array(es)\n",
    "  return es\n"
   ]
  },
  {
   "cell_type": "code",
   "execution_count": 5,
   "metadata": {
    "id": "zZ1jyGHz9ggf"
   },
   "outputs": [],
   "source": [
    "def mirror_decent_objective(p,eloss,athat):\n",
    "\n",
    "  return etha*(np.dot(p,eloss)) + beregman_divergence_on_logarithmic_legandre_function(p,athat)\n"
   ]
  },
  {
   "cell_type": "code",
   "execution_count": 6,
   "metadata": {
    "id": "PQHb2KfY_KE5"
   },
   "outputs": [],
   "source": [
    "def mirror_decent_optimizer(ythat,athat,p,a,lb,ub):\n",
    "\n",
    "  Atp1 = minimize(mirror_decent_objective,p,args=(ythat,athat),constraints=LinearConstraint(a,lb,ub))\n",
    "  return (np.array(Atp1.x))\n",
    "\n",
    "\n"
   ]
  },
  {
   "cell_type": "code",
   "execution_count": 7,
   "metadata": {
    "id": "FolrpRGx6zDm"
   },
   "outputs": [],
   "source": [
    "def action_sampling(actions , distribution):\n",
    "  \n",
    "  p = []\n",
    "  for i in range(0,actions.shape[0]):\n",
    "    p.append(i)\n",
    "  act = random.choices(p, distribution)\n",
    "\n",
    "  return (actions[act])\n"
   ]
  },
  {
   "cell_type": "code",
   "execution_count": 8,
   "metadata": {
    "id": "m-C2pJ44NueZ"
   },
   "outputs": [],
   "source": [
    "def combinatorial_mirror_decent():\n",
    "\n",
    "  athat = []\n",
    "  c = 0\n",
    "  for i in range(0,d-1):\n",
    "    athat.append(m/d)\n",
    "    c += athat[i]\n",
    "  athat.append(m-c)\n",
    "  athat = np.array(athat)\n",
    "  p = np.copy(athat)\n",
    "\n",
    "  a,ub,lb = constraint_generator()\n",
    "\n",
    "\n",
    "  for i in range(0,n):\n",
    "    actions,dis = action_distribution_generator(athat)\n",
    "    \n",
    "    at = action_sampling(actions, dis)[0]\n",
    "    loss = loss_generator()\n",
    "    eloss = loss_estimator(loss,at,athat)\n",
    "    \n",
    "    athat = mirror_decent_optimizer(eloss,athat,p,a,lb,ub)\n",
    "    print(at)\n",
    "  \n",
    "  print(athat)\n",
    "\n",
    "\n",
    "\n",
    "  \n"
   ]
  },
  {
   "cell_type": "code",
   "execution_count": null,
   "metadata": {},
   "outputs": [],
   "source": []
  }
 ],
 "metadata": {
  "colab": {
   "collapsed_sections": [],
   "name": "30_2.ipynb",
   "provenance": []
  },
  "kernelspec": {
   "display_name": "Python 3",
   "language": "python",
   "name": "python3"
  },
  "language_info": {
   "codemirror_mode": {
    "name": "ipython",
    "version": 3
   },
   "file_extension": ".py",
   "mimetype": "text/x-python",
   "name": "python",
   "nbconvert_exporter": "python",
   "pygments_lexer": "ipython3",
   "version": "3.7.6"
  }
 },
 "nbformat": 4,
 "nbformat_minor": 1
}
