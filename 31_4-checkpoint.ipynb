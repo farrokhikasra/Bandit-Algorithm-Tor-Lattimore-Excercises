{
 "cells": [
  {
   "cell_type": "code",
   "execution_count": 21,
   "metadata": {
    "id": "vnIBWGOBnvN8"
   },
   "outputs": [],
   "source": [
    "import numpy as np\n",
    "import matplotlib.pyplot as plt"
   ]
  },
  {
   "cell_type": "code",
   "execution_count": 31,
   "metadata": {
    "id": "0BX1WdY0pquJ"
   },
   "outputs": [],
   "source": [
    "def exp3(e, n):\n",
    "    l = 0\n",
    "    p = [0, 0]\n",
    "    s = [0, 0]\n",
    "    for i in range(0, n):\n",
    "        p[0] = np.exp(e * s[0]) / (np.exp(e * s[0]) + np.exp(e * s[1]))\n",
    "        p[1] = np.exp(e * s[1]) / (np.exp(e * s[0]) + np.exp(e * s[1]))\n",
    "        sample = np.random.binomial(1, p[0])\n",
    "        if i < 499 and sample == 0:\n",
    "            l += 1\n",
    "            s[1] += 1 / p[1]\n",
    "        elif i >= 499 and sample == 1:\n",
    "            l += 1\n",
    "            s[0] += 1 / p[0]\n",
    "    \n",
    "    return l\n"
   ]
  },
  {
   "cell_type": "code",
   "execution_count": 46,
   "metadata": {
    "id": "gGUBKYe0vmHn"
   },
   "outputs": [],
   "source": [
    "def exp3_IX(e, n):\n",
    "    p=[0,0]\n",
    "    s=[0,0]\n",
    "    l = 0\n",
    "    gamma = e / 2\n",
    "    for i in range(0, n):  \n",
    "        p[0] = np.exp(-e * s[0]) / (np.exp(-e * s[0]) + np.exp(-e * s[1]))\n",
    "        p[1] = np.exp(-e * s[1])/(np.exp(-e * s[0]) + np.exp(-e * s[1]))\n",
    "\n",
    "        sample = np.random.binomial(1, p[0])\n",
    "        if i < 499 and sample == 0:\n",
    "            s[1] += 1 / (p[1] + gamma)\n",
    "            l += 1\n",
    "        elif i >= 499 and sample == 1:\n",
    "            s[0] += 1 / (p[0] + gamma)\n",
    "            l += 1\n",
    "    return l"
   ]
  },
  {
   "cell_type": "code",
   "execution_count": 47,
   "metadata": {
    "id": "d2tyO_q8xF6h"
   },
   "outputs": [],
   "source": [
    "def mirror_decent(e, n):\n",
    "    p = [0.5, 0.5]\n",
    "    l = 0\n",
    "    a = 1 / (2 * n)\n",
    "    for i in range(0, n):\n",
    "        a = np.random.binomial(1, p[0])\n",
    "        if a == 0 and i < 499:\n",
    "            l += 1\n",
    "            p[1] = p[1] * np.exp(-e)\n",
    "        elif a == 1 and i >= 499:\n",
    "            l += 1\n",
    "            p[0] = p[0] * np.exp(-e)\n",
    "\n",
    "        if p[0] < a:\n",
    "            p[0] += a - p[0]\n",
    "            p[1] -= a - p[0]\n",
    "        elif p[1] < a:\n",
    "            p[1] += a - p[1]\n",
    "            p[0] -= a - p[1]\n",
    "    \n",
    "    return l\n"
   ]
  },
  {
   "cell_type": "code",
   "execution_count": 62,
   "metadata": {
    "id": "Z_K2gCogAYr3"
   },
   "outputs": [
    {
     "data": {
      "image/png": "[encoded data removed]",
      "text/plain": [
       "<Figure size 432x288 with 1 Axes>"
      ]
     },
     "metadata": {
      "needs_background": "light"
     },
     "output_type": "display_data"
    }
   ],
   "source": [
    "n = 1000\n",
    "c = 0.0001\n",
    "ethas = []\n",
    "rexp3 = []\n",
    "rexp3xi=[]\n",
    "rmd=[]\n",
    "\n",
    "for i in range(0, 100):\n",
    "    ethas.append(c)\n",
    "    rexp3xi.append(exp3_IX(c, n))\n",
    "    rmd.append(mirror_decent(c, n))\n",
    "    rexp3.append(exp3(c, n))\n",
    "    c += 0.005\n",
    "\n",
    "ethas = np.asarray(ethas)\n",
    "rexp3 = np.asarray(rexp3)\n",
    "rexp3xi = np.asarray(rexp3xi)\n",
    "rmd = np.asarray(rmd)\n",
    "\n",
    "plt.plot(ethas, rexp3, label = \"EXP3 Regret\")\n",
    "plt.plot(ethas, rexp3xi, label = \"EXP3-XI Regret\")\n",
    "plt.plot(ethas, rmd, label = \"Mirror Decent Regret\")\n",
    "plt.xlabel('ethas')\n",
    "plt.legend()\n",
    "plt.show()"
   ]
  },
  {
   "cell_type": "code",
   "execution_count": null,
   "metadata": {},
   "outputs": [],
   "source": []
  }
 ],
 "metadata": {
  "colab": {
   "collapsed_sections": [],
   "name": "31.4.ipynb",
   "provenance": []
  },
  "kernelspec": {
   "display_name": "Python 3",
   "language": "python",
   "name": "python3"
  },
  "language_info": {
   "codemirror_mode": {
    "name": "ipython",
    "version": 3
   },
   "file_extension": ".py",
   "mimetype": "text/x-python",
   "name": "python",
   "nbconvert_exporter": "python",
   "pygments_lexer": "ipython3",
   "version": "3.7.6"
  }
 },
 "nbformat": 4,
 "nbformat_minor": 1
}
